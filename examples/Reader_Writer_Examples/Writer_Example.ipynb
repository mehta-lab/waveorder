{
 "cells": [
  {
   "cell_type": "code",
   "execution_count": 1,
   "metadata": {},
   "outputs": [],
   "source": [
    "import os\n",
    "import sys\n",
    "p = os.path.abspath('../..')\n",
    "if p not in sys.path:\n",
    "    sys.path.append(p)\n",
    "\n",
    "from waveorder.io.writer import WaveorderWriter\n",
    "import numpy as np\n",
    "import zarr"
   ]
  },
  {
   "cell_type": "markdown",
   "metadata": {},
   "source": [
    "### Initialize the writer\n",
    "\n",
    "This will instantiate the writer class, no zarr stores, subfolders, etc have been created yet.  This step allows you to define which type of writer you want and let it know your directory to save the data"
   ]
  },
  {
   "cell_type": "code",
   "execution_count": 2,
   "metadata": {},
   "outputs": [],
   "source": [
    "writer = WaveorderWriter('/Users/cameron.foltz/Desktop', 'physical')"
   ]
  },
  {
   "cell_type": "markdown",
   "metadata": {},
   "source": [
    "### Set Position and Create Zarr\n",
    "\n",
    "'create_zarr_root()' will create an empty zarr store within the save directory.  No arrays have been added here.  Name of the store must be input by the user.\n",
    "\n",
    "'create_position()' will create a subgroup in your zarr store with the corresponding position number.  The current working directory of the writer is now this subfolder.  If you specify a prefix, it will be added to the group name"
   ]
  },
  {
   "cell_type": "code",
   "execution_count": 3,
   "metadata": {},
   "outputs": [
    {
     "name": "stdout",
     "output_type": "stream",
     "text": [
      "Creating new zarr store at /Users/cameron.foltz/Desktop/waveOrder_Writer_Example.zarr\n"
     ]
    }
   ],
   "source": [
    "writer.create_zarr_root('waveOrder_Writer_Example.zarr')"
   ]
  },
  {
   "cell_type": "code",
   "execution_count": 4,
   "metadata": {},
   "outputs": [
    {
     "name": "stdout",
     "output_type": "stream",
     "text": [
      "Creating and opening subgroup Pos_000.zarr\n",
      "Creating and opening subgroup Pos_001.zarr\n",
      "Creating and opening subgroup Pos_002.zarr\n",
      "Creating and opening subgroup Pos_003.zarr\n",
      "Creating and opening subgroup Pos_004.zarr\n",
      "Creating and opening subgroup Pos_005.zarr\n",
      "Creating and opening subgroup Pos_006.zarr\n",
      "Creating and opening subgroup Pos_007.zarr\n",
      "Creating and opening subgroup Pos_008.zarr\n",
      "Creating and opening subgroup Pos_009.zarr\n"
     ]
    }
   ],
   "source": [
    "for i in range(10):\n",
    "    writer.create_position(i, prefix=None)"
   ]
  },
  {
   "cell_type": "markdown",
   "metadata": {},
   "source": [
    "### Check which position (subgroup) the writer is currently at\n",
    "\n",
    "Useful function for when you are writing to different groups at different times.  i.e. 'position first' writing (example later)"
   ]
  },
  {
   "cell_type": "code",
   "execution_count": 5,
   "metadata": {},
   "outputs": [
    {
     "name": "stdout",
     "output_type": "stream",
     "text": [
      "Current store is at: Pos_009.zarr\n"
     ]
    }
   ],
   "source": [
    "print(f'Current store is at: {writer.get_current_group()}')"
   ]
  },
  {
   "cell_type": "markdown",
   "metadata": {},
   "source": [
    "### Change to different position\n",
    "\n",
    "if your group has a prefix, it must be specified"
   ]
  },
  {
   "cell_type": "code",
   "execution_count": 6,
   "metadata": {},
   "outputs": [
    {
     "name": "stdout",
     "output_type": "stream",
     "text": [
      "Opening subgroup Pos_000.zarr\n"
     ]
    }
   ],
   "source": [
    "writer.open_position(0, prefix=None)"
   ]
  },
  {
   "cell_type": "markdown",
   "metadata": {},
   "source": [
    "### Create some fake data to save later"
   ]
  },
  {
   "cell_type": "code",
   "execution_count": 7,
   "metadata": {},
   "outputs": [],
   "source": [
    "P = 10\n",
    "T = 3\n",
    "C = 2\n",
    "Z = 65\n",
    "Y = 256\n",
    "X = 256\n",
    "\n",
    "data = np.random.rand(P, T, C, Z, Y, X)"
   ]
  },
  {
   "cell_type": "code",
   "execution_count": 8,
   "metadata": {},
   "outputs": [
    {
     "data": {
      "text/plain": [
       "(10, 3, 2, 65, 256, 256)"
      ]
     },
     "execution_count": 8,
     "metadata": {},
     "output_type": "execute_result"
    }
   ],
   "source": [
    "np.shape(data)"
   ]
  },
  {
   "cell_type": "markdown",
   "metadata": {},
   "source": [
    "### initialize the array which sets the data saving parameters\n",
    "\n",
    "Here is where you will initialize the array in your current writer.store .  data_shape should match the (T, C, Z, Y, X) dimensions of your data.  Positions are separated by zarr subgroups under the root zarr store.\n",
    "\n",
    "__chunk_size__ determines how zarr will chunk your data.  This means that when you later try to load the data, it will load one chunk at a time with this specified size.  To have the chunk be one z-slice, you would set chunk_size = (1,1,1,Y,X)\n",
    "\n",
    "__chan_names__ describe the names of the channels of your data in the order in which they will be written.\n",
    "\n",
    "__clims__ corresponds to the the display contrast limits in the metadata for every channel, if none, default values will be used"
   ]
  },
  {
   "cell_type": "code",
   "execution_count": 9,
   "metadata": {},
   "outputs": [],
   "source": [
    "data_shape = (3,2,65,256,256)\n",
    "chunk_size = (1,1,1,256,256)\n",
    "chan_names = ['DAPI', 'Phase3D']\n",
    "clims = [(0,1000),(-0.3, 0.3)]\n",
    "dtype = 'float32'"
   ]
  },
  {
   "cell_type": "code",
   "execution_count": 10,
   "metadata": {},
   "outputs": [],
   "source": [
    "writer.init_array(data_shape, chunk_size, chan_names, clims, dtype)"
   ]
  },
  {
   "cell_type": "markdown",
   "metadata": {},
   "source": [
    "### Write the data along specific dimensions"
   ]
  },
  {
   "cell_type": "code",
   "execution_count": 11,
   "metadata": {},
   "outputs": [],
   "source": [
    "writer.write(data[0], t=[0,3], c=[0,2], z=[0,65])"
   ]
  },
  {
   "cell_type": "markdown",
   "metadata": {},
   "source": [
    "# Add a new writer for to save to the same store"
   ]
  },
  {
   "cell_type": "code",
   "execution_count": 12,
   "metadata": {},
   "outputs": [
    {
     "name": "stdout",
     "output_type": "stream",
     "text": [
      "Opening existing store at /Users/cameron.foltz/Desktop/waveOrder_Writer_Example.zarr\n",
      "Opening existing store at /Users/cameron.foltz/Desktop/waveOrder_Writer_Example.zarr\n"
     ]
    }
   ],
   "source": [
    "writer_denoised = WaveorderWriter('/Users/cameron.foltz/Desktop/waveOrder_Writer_Example.zarr', \n",
    "                                  'physical', alt_name = 'physical_data_denoised')\n",
    "\n",
    "writer_stokes = WaveorderWriter('/Users/cameron.foltz/Desktop/waveOrder_Writer_Example.zarr','stokes')"
   ]
  },
  {
   "cell_type": "code",
   "execution_count": 13,
   "metadata": {},
   "outputs": [
    {
     "name": "stdout",
     "output_type": "stream",
     "text": [
      "Opening subgroup Pos_000.zarr\n",
      "Opening subgroup Pos_000.zarr\n"
     ]
    }
   ],
   "source": [
    "writer_denoised.open_position(0)\n",
    "writer_stokes.open_position(0)"
   ]
  },
  {
   "cell_type": "code",
   "execution_count": 14,
   "metadata": {},
   "outputs": [],
   "source": [
    "writer_denoised.init_array(data_shape, chunk_size, chan_names, clims, dtype)\n",
    "writer_denoised.write(data[0], t=[0,3], c=[0,2], z=[0,65])\n",
    "\n",
    "writer_stokes.init_array(data_shape, chunk_size, chan_names, clims, dtype)\n",
    "writer_stokes.write(data[0], t=[0,3], c=[0,2], z=[0,65])"
   ]
  },
  {
   "cell_type": "markdown",
   "metadata": {},
   "source": [
    "# Complex, 'Position First' Acquisition"
   ]
  },
  {
   "cell_type": "markdown",
   "metadata": {},
   "source": [
    "Let's say you have a dataset with 10 position with each position containing a data of size (T, C, Z, Y, X) = (3, 2, 65, 256, 256) and you want to save the first time point of every position first, and then move on to the next timepoint.  This will show you how to properly loop through this example case."
   ]
  },
  {
   "cell_type": "code",
   "execution_count": 15,
   "metadata": {},
   "outputs": [
    {
     "name": "stdout",
     "output_type": "stream",
     "text": [
      "Creating new zarr store at /Users/cameron.foltz/Desktop/waveOrder_Writer_Example_MultiPos.zarr\n"
     ]
    }
   ],
   "source": [
    "writer = WaveorderWriter('/Users/cameron.foltz/Desktop', 'physical')\n",
    "writer.create_zarr_root('waveOrder_Writer_Example_MultiPos.zarr')"
   ]
  },
  {
   "cell_type": "code",
   "execution_count": 16,
   "metadata": {
    "scrolled": false
   },
   "outputs": [
    {
     "name": "stdout",
     "output_type": "stream",
     "text": [
      "Creating and opening subgroup Pos_000.zarr\n",
      "Creating and opening subgroup Pos_001.zarr\n",
      "Creating and opening subgroup Pos_002.zarr\n",
      "Creating and opening subgroup Pos_003.zarr\n",
      "Creating and opening subgroup Pos_004.zarr\n",
      "Creating and opening subgroup Pos_005.zarr\n",
      "Creating and opening subgroup Pos_006.zarr\n",
      "Creating and opening subgroup Pos_007.zarr\n",
      "Creating and opening subgroup Pos_008.zarr\n",
      "Creating and opening subgroup Pos_009.zarr\n",
      "Writing Position 0 at Time 0\n",
      "Opening subgroup Pos_000.zarr\n",
      "Writing Position 1 at Time 0\n",
      "Opening subgroup Pos_001.zarr\n",
      "Writing Position 2 at Time 0\n",
      "Opening subgroup Pos_002.zarr\n",
      "Writing Position 3 at Time 0\n",
      "Opening subgroup Pos_003.zarr\n",
      "Writing Position 4 at Time 0\n",
      "Opening subgroup Pos_004.zarr\n",
      "Writing Position 5 at Time 0\n",
      "Opening subgroup Pos_005.zarr\n",
      "Writing Position 6 at Time 0\n",
      "Opening subgroup Pos_006.zarr\n",
      "Writing Position 7 at Time 0\n",
      "Opening subgroup Pos_007.zarr\n",
      "Writing Position 8 at Time 0\n",
      "Opening subgroup Pos_008.zarr\n",
      "Writing Position 9 at Time 0\n",
      "Opening subgroup Pos_009.zarr\n",
      "Writing Position 0 at Time 1\n",
      "Opening subgroup Pos_000.zarr\n",
      "Writing Position 1 at Time 1\n",
      "Opening subgroup Pos_001.zarr\n",
      "Writing Position 2 at Time 1\n",
      "Opening subgroup Pos_002.zarr\n",
      "Writing Position 3 at Time 1\n",
      "Opening subgroup Pos_003.zarr\n",
      "Writing Position 4 at Time 1\n",
      "Opening subgroup Pos_004.zarr\n",
      "Writing Position 5 at Time 1\n",
      "Opening subgroup Pos_005.zarr\n",
      "Writing Position 6 at Time 1\n",
      "Opening subgroup Pos_006.zarr\n",
      "Writing Position 7 at Time 1\n",
      "Opening subgroup Pos_007.zarr\n",
      "Writing Position 8 at Time 1\n",
      "Opening subgroup Pos_008.zarr\n",
      "Writing Position 9 at Time 1\n",
      "Opening subgroup Pos_009.zarr\n",
      "Writing Position 0 at Time 2\n",
      "Opening subgroup Pos_000.zarr\n",
      "Writing Position 1 at Time 2\n",
      "Opening subgroup Pos_001.zarr\n",
      "Writing Position 2 at Time 2\n",
      "Opening subgroup Pos_002.zarr\n",
      "Writing Position 3 at Time 2\n",
      "Opening subgroup Pos_003.zarr\n",
      "Writing Position 4 at Time 2\n",
      "Opening subgroup Pos_004.zarr\n",
      "Writing Position 5 at Time 2\n",
      "Opening subgroup Pos_005.zarr\n",
      "Writing Position 6 at Time 2\n",
      "Opening subgroup Pos_006.zarr\n",
      "Writing Position 7 at Time 2\n",
      "Opening subgroup Pos_007.zarr\n",
      "Writing Position 8 at Time 2\n",
      "Opening subgroup Pos_008.zarr\n",
      "Writing Position 9 at Time 2\n",
      "Opening subgroup Pos_009.zarr\n"
     ]
    }
   ],
   "source": [
    "# Must first initialize all of the arrays, since you will be returning to them \n",
    "# at different times in the data-saving process.\n",
    "num_pos = 10\n",
    "\n",
    "for i in range(num_pos):\n",
    "    writer.create_position(i, prefix=None)\n",
    "    writer.init_array(data_shape, chunk_size, chan_names, clims, dtype)\n",
    "    \n",
    "# Now begin the rime loop \n",
    "for t in range(3):\n",
    "    \n",
    "    # At each time point, write data for all positions\n",
    "    for pos in range(num_pos):\n",
    "        \n",
    "        print(f'Writing Position {pos} at Time {t}')\n",
    "        \n",
    "        #change to the correct position group\n",
    "        writer.open_position(pos)\n",
    "        \n",
    "        #write this position data\n",
    "        writer.write(data[pos, t], t=t, c=[0,2], z=[0,65])"
   ]
  },
  {
   "cell_type": "code",
   "execution_count": null,
   "metadata": {},
   "outputs": [],
   "source": []
  }
 ],
 "metadata": {
  "kernelspec": {
   "display_name": "Python 3",
   "language": "python",
   "name": "python3"
  },
  "language_info": {
   "codemirror_mode": {
    "name": "ipython",
    "version": 3
   },
   "file_extension": ".py",
   "mimetype": "text/x-python",
   "name": "python",
   "nbconvert_exporter": "python",
   "pygments_lexer": "ipython3",
   "version": "3.7.6"
  }
 },
 "nbformat": 4,
 "nbformat_minor": 5
}
