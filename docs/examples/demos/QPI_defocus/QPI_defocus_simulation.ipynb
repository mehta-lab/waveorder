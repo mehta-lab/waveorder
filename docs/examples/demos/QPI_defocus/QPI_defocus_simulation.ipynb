{
 "cells": [
  {
   "cell_type": "markdown",
   "id": "be76c50e",
   "metadata": {
    "cell_marker": "\"\"\""
   },
   "source": [
    "# Quantitative Phase Imaging from Defocus Demo\n",
    "\n",
    "This notebook demonstrates forward simulation and reconstruction for Quantitative Phase Imaging (QPI) from defocus.\n",
    "The simulation and reconstruction are based on partially coherent optical diffraction tomography (ODT):\n",
    "\n",
    "J. M. Soto, J. A. Rodrigo, and T. Alieva, \"Label-free quantitative 3D tomographic imaging\n",
    "for partially coherent light microscopy,\" Opt. Express 25, 15699-15712 (2017)"
   ]
  },
  {
   "cell_type": "markdown",
   "id": "1c499a11",
   "metadata": {
    "cell_marker": "\"\"\""
   },
   "source": [
    "## Setup and Imports\n",
    "First, let's install the latest version of waveorder from the main branch"
   ]
  },
  {
   "cell_type": "code",
   "execution_count": null,
   "id": "dd068541",
   "metadata": {},
   "outputs": [],
   "source": [
    "import sys\n",
    "import subprocess\n",
    "\n",
    "# Install latest waveorder from main branch\n",
    "subprocess.check_call(\n",
    "    [\n",
    "        sys.executable,\n",
    "        \"-m\",\n",
    "        \"pip\",\n",
    "        \"install\",\n",
    "        \"git+https://github.com/mehta-lab/waveorder.git@main\",\n",
    "    ]\n",
    ")"
   ]
  },
  {
   "cell_type": "code",
   "execution_count": null,
   "id": "c5dc9918",
   "metadata": {},
   "outputs": [],
   "source": [
    "import numpy as np\n",
    "from pathlib import Path\n",
    "from platformdirs import user_data_dir\n",
    "import matplotlib.pyplot as plt\n",
    "import torch\n",
    "\n",
    "from waveorder import util\n",
    "from waveorder.models import phase_thick_3d\n",
    "from waveorder.visuals import jupyter_visuals"
   ]
  },
  {
   "cell_type": "markdown",
   "id": "fc4ce347",
   "metadata": {
    "cell_marker": "\"\"\""
   },
   "source": [
    "## Forward Simulation Parameters"
   ]
  },
  {
   "cell_type": "code",
   "execution_count": null,
   "id": "ad6f7b13",
   "metadata": {},
   "outputs": [],
   "source": [
    "# Parameters (all lengths in micrometers)\n",
    "simulation_arguments = {\n",
    "    \"zyx_shape\": (100, 256, 256),  # 3D shape of the volume\n",
    "    \"yx_pixel_size\": 6.5 / 63,  # Lateral pixel size\n",
    "    \"z_pixel_size\": 0.25,  # Axial pixel size\n",
    "    \"index_of_refraction_media\": 1.3,  # Refractive index of medium\n",
    "}\n",
    "\n",
    "phantom_arguments = {\n",
    "    \"index_of_refraction_sample\": 1.50,  # Refractive index of sample\n",
    "    \"sphere_radius\": 5,  # Radius of test sphere in microns\n",
    "}\n",
    "\n",
    "transfer_function_arguments = {\n",
    "    \"z_padding\": 0,  # Padding in z direction\n",
    "    \"wavelength_illumination\": 0.532,  # Wavelength in microns\n",
    "    \"numerical_aperture_illumination\": 0.9,  # Illumination NA\n",
    "    \"numerical_aperture_detection\": 1.2,  # Detection NA\n",
    "}"
   ]
  },
  {
   "cell_type": "markdown",
   "id": "1259c40f",
   "metadata": {
    "cell_marker": "\"\"\""
   },
   "source": [
    "## Generate Test Phantom"
   ]
  },
  {
   "cell_type": "code",
   "execution_count": null,
   "id": "6c60214c",
   "metadata": {},
   "outputs": [],
   "source": [
    "# Create a phantom\n",
    "\n",
    "# Star target\n",
    "star, _, _ = util.generate_star_target(\n",
    "    yx_shape=simulation_arguments[\"zyx_shape\"][1:3]\n",
    ")\n",
    "yx_phase = star * (\n",
    "    phantom_arguments[\"index_of_refraction_sample\"] - simulation_arguments[\"index_of_refraction_media\"]\n",
    ")  # phase in radians\n",
    "# Initialize zyx_phase with zeros\n",
    "zyx_phase = torch.zeros(simulation_arguments[\"zyx_shape\"])\n",
    "\n",
    "# Copy yx_phase into the central 10 z slices\n",
    "z_center = simulation_arguments[\"zyx_shape\"][0] // 2\n",
    "z_start = z_center - 5\n",
    "z_end = z_center + 6\n",
    "zyx_phase[z_start:z_end] = yx_phase\n",
    "\n",
    "# Bead target\n",
    "# zyx_phase = phase_thick_3d.generate_test_phantom(\n",
    "#     **simulation_arguments, **phantom_arguments\n",
    "# )\n",
    "\n",
    "\n",
    "# Show 5 z-slices, five apart, centered on the central z slice\n",
    "z_slices = np.arange(z_center - 10, z_center + 11, 5)\n",
    "\n",
    "fig, axes = plt.subplots(1, 5, figsize=(15, 3))\n",
    "for i, z in enumerate(z_slices):\n",
    "    axes[i].imshow(zyx_phase[z], cmap=\"gray\", origin=\"lower\")\n",
    "    axes[i].set_title(f\"z = {z}\")\n",
    "    axes[i].axis(\"off\")\n",
    "plt.tight_layout()\n",
    "plt.show()"
   ]
  },
  {
   "cell_type": "markdown",
   "id": "0794004e",
   "metadata": {
    "cell_marker": "\"\"\""
   },
   "source": [
    "## Calculate Transfer Functions"
   ]
  },
  {
   "cell_type": "code",
   "execution_count": null,
   "id": "dca667fc",
   "metadata": {},
   "outputs": [],
   "source": [
    "# Calculate real and imaginary parts of the transfer function\n",
    "(\n",
    "    real_potential_transfer_function,\n",
    "    imag_potential_transfer_function,\n",
    ") = phase_thick_3d.calculate_transfer_function(\n",
    "    **simulation_arguments, **transfer_function_arguments\n",
    ")\n",
    "# Convert complex valued transfer functions to real valued\n",
    "real_potential_transfer_function_shifted = np.fft.ifftshift(\n",
    "    real_potential_transfer_function.real\n",
    ")\n",
    "imag_potential_transfer_function_shifted = np.fft.ifftshift(\n",
    "    imag_potential_transfer_function.real\n",
    ")\n",
    "\n",
    "# Visualize transfer functions\n",
    "fig, axes = plt.subplots(2, 5, figsize=(15, 6))\n",
    "for i, z in enumerate(z_slices):\n",
    "    axes[0, i].imshow(\n",
    "        real_potential_transfer_function_shifted[z],\n",
    "        cmap=\"gray\",\n",
    "        origin=\"lower\",\n",
    "    )\n",
    "    axes[0, i].set_title(f\"Real TF, z = {z}\")\n",
    "    axes[0, i].axis(\"off\")\n",
    "    axes[1, i].imshow(\n",
    "        imag_potential_transfer_function_shifted[z],\n",
    "        cmap=\"gray\",\n",
    "        origin=\"lower\",\n",
    "    )\n",
    "    axes[1, i].set_title(f\"Imag TF, z = {z}\")\n",
    "    axes[1, i].axis(\"off\")\n",
    "plt.tight_layout()\n",
    "plt.show()"
   ]
  },
  {
   "cell_type": "markdown",
   "id": "4f1f271e",
   "metadata": {
    "cell_marker": "\"\"\""
   },
   "source": [
    "## Forward Simulation"
   ]
  },
  {
   "cell_type": "code",
   "execution_count": null,
   "id": "cb16fc0c",
   "metadata": {},
   "outputs": [],
   "source": [
    "# Simulate defocus data\n",
    "zyx_data = phase_thick_3d.apply_transfer_function(\n",
    "    zyx_phase,\n",
    "    real_potential_transfer_function,\n",
    "    transfer_function_arguments[\"z_padding\"],\n",
    "    brightness=1e3,\n",
    ")\n",
    "\n",
    "# Visualize simulated data\n",
    "fig, axes = plt.subplots(1, 5, figsize=(15, 3))\n",
    "for i, z in enumerate(z_slices):\n",
    "    axes[i].imshow(zyx_data[z], cmap=\"gray\", origin=\"lower\")\n",
    "    axes[i].set_title(f\"Data, z = {z}\")\n",
    "    axes[i].axis(\"off\")\n",
    "plt.tight_layout()\n",
    "plt.show()"
   ]
  },
  {
   "cell_type": "markdown",
   "id": "5a75411c",
   "metadata": {
    "cell_marker": "\"\"\""
   },
   "source": [
    "## Phase Reconstruction"
   ]
  },
  {
   "cell_type": "code",
   "execution_count": null,
   "id": "57b85c74",
   "metadata": {},
   "outputs": [],
   "source": [
    "# Reconstruct phase\n",
    "zyx_recon = phase_thick_3d.apply_inverse_transfer_function(\n",
    "    zyx_data,\n",
    "    real_potential_transfer_function,\n",
    "    imag_potential_transfer_function,\n",
    "    transfer_function_arguments[\"z_padding\"],\n",
    ")\n",
    "\n",
    "# Visualize reconstruction compared to ground truth\n",
    "fig, axes = plt.subplots(2, 5, figsize=(15, 6))\n",
    "for i, z in enumerate(z_slices):\n",
    "    axes[0, i].imshow(zyx_phase[z], cmap=\"gray\", origin=\"lower\")\n",
    "    axes[0, i].set_title(f\"Ground Truth, z = {z}\")\n",
    "    axes[0, i].axis(\"off\")\n",
    "    axes[1, i].imshow(zyx_recon[z], cmap=\"gray\", origin=\"lower\")\n",
    "    axes[1, i].set_title(f\"Reconstruction, z = {z}\")\n",
    "    axes[1, i].axis(\"off\")\n",
    "plt.tight_layout()\n",
    "plt.show()"
   ]
  },
  {
   "cell_type": "code",
   "execution_count": null,
   "id": "9cc5853d",
   "metadata": {},
   "outputs": [],
   "source": []
  }
 ],
 "metadata": {
  "jupytext": {
   "encoding": "# -*- coding: utf-8 -*-",
   "formats": "py:percent,ipynb"
  },
  "kernelspec": {
   "display_name": "wo-dev3",
   "language": "python",
   "name": "python3"
  },
  "language_info": {
   "name": "python",
   "version": "3.11.11"
  }
 },
 "nbformat": 4,
 "nbformat_minor": 5
}
