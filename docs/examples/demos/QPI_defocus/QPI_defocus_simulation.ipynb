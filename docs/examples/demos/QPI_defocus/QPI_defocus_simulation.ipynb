{
 "cells": [
  {
   "cell_type": "markdown",
   "id": "2318a692",
   "metadata": {
    "cell_marker": "\"\"\""
   },
   "source": [
    "# Quantitative Phase Imaging from Defocus Demo\n",
    "\n",
    "This notebook demonstrates forward simulation and reconstruction for Quantitative Phase Imaging (QPI) from defocus.\n",
    "The simulation and reconstruction are based on partially coherent optical diffraction tomography (ODT):\n",
    "\n",
    "J. M. Soto, J. A. Rodrigo, and T. Alieva, \"Label-free quantitative 3D tomographic imaging\n",
    "for partially coherent light microscopy,\" Opt. Express 25, 15699-15712 (2017)"
   ]
  },
  {
   "cell_type": "markdown",
   "id": "ffbc4a7d",
   "metadata": {
    "cell_marker": "\"\"\""
   },
   "source": [
    "## Setup and Imports\n",
    "First, let's install the latest version of waveorder from the main branch"
   ]
  },
  {
   "cell_type": "code",
   "execution_count": null,
   "id": "a6652364",
   "metadata": {},
   "outputs": [],
   "source": [
    "import sys\n",
    "import subprocess\n",
    "\n",
    "# Install latest waveorder from main branch\n",
    "subprocess.check_call(\n",
    "    [\n",
    "        sys.executable,\n",
    "        \"-m\",\n",
    "        \"pip\",\n",
    "        \"install\",\n",
    "        \"git+https://github.com/mehta-lab/waveorder.git@main\",\n",
    "    ]\n",
    ")"
   ]
  },
  {
   "cell_type": "code",
   "execution_count": null,
   "id": "c0b2d37a",
   "metadata": {},
   "outputs": [],
   "source": [
    "import numpy as np\n",
    "from pathlib import Path\n",
    "from platformdirs import user_data_dir\n",
    "import matplotlib.pyplot as plt\n",
    "import torch\n",
    "\n",
    "from waveorder import util\n",
    "from waveorder.models import phase_thick_3d\n",
    "from waveorder.visuals import jupyter_visuals"
   ]
  },
  {
   "cell_type": "markdown",
   "id": "dd94a687",
   "metadata": {
    "cell_marker": "\"\"\""
   },
   "source": [
    "## Forward Simulation Parameters"
   ]
  },
  {
   "cell_type": "code",
   "execution_count": null,
   "id": "678efb51",
   "metadata": {},
   "outputs": [],
   "source": [
    "# Parameters (all lengths in micrometers)\n",
    "simulation_arguments = {\n",
    "    \"zyx_shape\": (100, 256, 256),  # 3D shape of the volume\n",
    "    \"yx_pixel_size\": 6.5 / 63,  # Lateral pixel size\n",
    "    \"z_pixel_size\": 0.25,  # Axial pixel size\n",
    "    \"index_of_refraction_media\": 1.3,  # Refractive index of medium\n",
    "}\n",
    "\n",
    "phantom_arguments = {\n",
    "    \"index_of_refraction_sample\": 1.50,  # Refractive index of sample\n",
    "    \"sphere_radius\": 5,  # Radius of test sphere in microns\n",
    "}\n",
    "\n",
    "transfer_function_arguments = {\n",
    "    \"z_padding\": 0,  # Padding in z direction\n",
    "    \"wavelength_illumination\": 0.532,  # Wavelength in microns\n",
    "    \"numerical_aperture_illumination\": 0.9,  # Illumination NA\n",
    "    \"numerical_aperture_detection\": 1.2,  # Detection NA\n",
    "}"
   ]
  },
  {
   "cell_type": "markdown",
   "id": "3653ede7",
   "metadata": {
    "cell_marker": "\"\"\""
   },
   "source": [
    "## Generate Test Phantom"
   ]
  },
  {
   "cell_type": "code",
   "execution_count": null,
   "id": "f77c22cd",
   "metadata": {},
   "outputs": [],
   "source": [
    "# Create a phantom\n",
    "\n",
    "# 3D Star target\n",
    "star, _, _ = util.generate_star_target(\n",
    "    yx_shape=simulation_arguments[\"zyx_shape\"][1:3]\n",
    ")\n",
    "yx_phase = star * (\n",
    "    phantom_arguments[\"index_of_refraction_sample\"]\n",
    "    - simulation_arguments[\"index_of_refraction_media\"]\n",
    ")  # phase in radians\n",
    "# Initialize zyx_phase with zeros\n",
    "zyx_phase = torch.zeros(simulation_arguments[\"zyx_shape\"])\n",
    "\n",
    "# Copy yx_phase into the central 10 z slices\n",
    "z_center = simulation_arguments[\"zyx_shape\"][0] // 2\n",
    "z_start = z_center - 5\n",
    "z_end = z_center + 6\n",
    "zyx_phase[z_start:z_end] = yx_phase\n",
    "\n",
    "# Bead target\n",
    "# zyx_phase = phase_thick_3d.generate_test_phantom(\n",
    "#     **simulation_arguments, **phantom_arguments\n",
    "# )\n",
    "\n",
    "\n",
    "# Show 5 z-slices, five apart, centered on the central z slice\n",
    "z_slices = np.arange(z_center - 10, z_center + 11, 5)\n",
    "\n",
    "fig, axes = plt.subplots(1, 5, figsize=(15, 3))\n",
    "for i, z in enumerate(z_slices):\n",
    "    axes[i].imshow(zyx_phase[z], cmap=\"gray\", origin=\"lower\")\n",
    "    axes[i].set_title(f\"z = {z - z_center}\")\n",
    "    axes[i].axis(\"off\")\n",
    "plt.tight_layout()\n",
    "plt.show()"
   ]
  },
  {
   "cell_type": "markdown",
   "id": "685b2b8d",
   "metadata": {
    "cell_marker": "\"\"\""
   },
   "source": [
    "## Calculate Transfer Functions"
   ]
  },
  {
   "cell_type": "code",
   "execution_count": null,
   "id": "02f03b11",
   "metadata": {},
   "outputs": [],
   "source": [
    "# Calculate real and imaginary parts of the transfer function\n",
    "(\n",
    "    real_component_transfer_function,\n",
    "    imaginary_component_transfer_function,\n",
    ") = phase_thick_3d.calculate_transfer_function(\n",
    "    **simulation_arguments, **transfer_function_arguments\n",
    ")\n",
    "\n",
    "# Magnitude and phase of the real component of the transfer function\n",
    "tf_real_magnitude = np.fft.ifftshift(real_component_transfer_function.abs())\n",
    "tf_real_phase = np.fft.ifftshift(real_component_transfer_function.angle())\n",
    "\n",
    "# Visualize transfer functions\n",
    "fig, axes = plt.subplots(2, 5, figsize=(15, 6))\n",
    "for i, z in enumerate(z_slices):\n",
    "    axes[0, i].imshow(\n",
    "        tf_real_magnitude[z],\n",
    "        cmap=\"gray\",\n",
    "        origin=\"lower\",\n",
    "    )\n",
    "    axes[0, i].set_title(f\"Magnitude of TF, z = {z - z_center}\")\n",
    "    axes[0, i].axis(\"off\")\n",
    "    axes[1, i].imshow(\n",
    "        tf_real_phase[z],\n",
    "        cmap=\"gray\",\n",
    "        origin=\"lower\",\n",
    "    )\n",
    "    axes[1, i].set_title(f\"Phase of TF, z = {z - z_center}\")\n",
    "    axes[1, i].axis(\"off\")\n",
    "plt.tight_layout()\n",
    "plt.show()"
   ]
  },
  {
   "cell_type": "markdown",
   "id": "113155ee",
   "metadata": {
    "cell_marker": "\"\"\""
   },
   "source": [
    "## Forward Simulation"
   ]
  },
  {
   "cell_type": "code",
   "execution_count": null,
   "id": "2bb41cb2",
   "metadata": {},
   "outputs": [],
   "source": [
    "# Simulate defocus data\n",
    "zyx_data = phase_thick_3d.apply_transfer_function(\n",
    "    zyx_phase,\n",
    "    real_component_transfer_function,\n",
    "    transfer_function_arguments[\"z_padding\"],\n",
    "    brightness=1e3,\n",
    ")\n",
    "zyx_data_norm = (zyx_data - zyx_data.min()) / (zyx_data.max() - zyx_data.min())\n",
    "# Visualize simulated data\n",
    "fig, axes = plt.subplots(1, 5, figsize=(15, 3))\n",
    "for i, z in enumerate(z_slices):\n",
    "    axes[i].imshow(\n",
    "        zyx_data_norm[z], cmap=\"gray\", origin=\"lower\", vmin=0, vmax=1\n",
    "    )\n",
    "    axes[i].set_title(f\"Data, z = {z - z_center}\")\n",
    "    axes[i].axis(\"off\")\n",
    "plt.tight_layout()\n",
    "plt.show()"
   ]
  },
  {
   "cell_type": "markdown",
   "id": "b96f7a70",
   "metadata": {
    "cell_marker": "\"\"\""
   },
   "source": [
    "## Phase Reconstruction"
   ]
  },
  {
   "cell_type": "code",
   "execution_count": null,
   "id": "5b6391ea",
   "metadata": {},
   "outputs": [],
   "source": [
    "# Reconstruct phase\n",
    "zyx_recon = phase_thick_3d.apply_inverse_transfer_function(\n",
    "    zyx_data,\n",
    "    real_component_transfer_function,\n",
    "    imaginary_component_transfer_function,\n",
    "    transfer_function_arguments[\"z_padding\"],\n",
    "    reconstruction_algorithm=\"Tikhonov\",\n",
    "    regularization_strength=1e-5,\n",
    ")\n",
    "\n",
    "# Visualize reconstruction compared to ground truth\n",
    "fig, axes = plt.subplots(3, 5, figsize=(15, 9))\n",
    "\n",
    "# Normalize data and reconstruction between 0 and 1\n",
    "zyx_data_norm = (zyx_data - zyx_data.min()) / (zyx_data.max() - zyx_data.min())\n",
    "zyx_recon_norm = (zyx_recon - zyx_recon.min()) / (\n",
    "    zyx_recon.max() - zyx_recon.min()\n",
    ")\n",
    "\n",
    "for i, z in enumerate(z_slices):\n",
    "    axes[0, i].imshow(zyx_phase[z], cmap=\"gray\", origin=\"lower\")\n",
    "    axes[0, i].set_title(f\"Ground Truth, z = {z - z_center}\")\n",
    "    axes[0, i].axis(\"off\")\n",
    "    axes[1, i].imshow(\n",
    "        zyx_data_norm[z], cmap=\"gray\", origin=\"lower\", vmin=0, vmax=1\n",
    "    )\n",
    "    axes[1, i].set_title(f\"Data, z = {z - z_center}\")\n",
    "    axes[1, i].axis(\"off\")\n",
    "    axes[2, i].imshow(\n",
    "        zyx_recon_norm[z], cmap=\"gray\", origin=\"lower\", vmin=0, vmax=1\n",
    "    )\n",
    "    axes[2, i].set_title(f\"Reconstruction, z = {z - z_center}\")\n",
    "    axes[2, i].axis(\"off\")\n",
    "plt.tight_layout()\n",
    "plt.show()"
   ]
  },
  {
   "cell_type": "code",
   "execution_count": null,
   "id": "d4268c90",
   "metadata": {},
   "outputs": [],
   "source": []
  }
 ],
 "metadata": {
  "jupytext": {
   "encoding": "# -*- coding: utf-8 -*-",
   "formats": "py:percent,ipynb"
  },
  "kernelspec": {
   "display_name": "Python 3",
   "language": "python",
   "name": "python3"
  }
 },
 "nbformat": 4,
 "nbformat_minor": 5
}
