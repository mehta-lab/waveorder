{
 "cells": [
  {
   "cell_type": "markdown",
   "id": "5e4e90c6",
   "metadata": {
    "cell_marker": "\"\"\""
   },
   "source": [
    "# Quantitative Phase Imaging from Defocus Demo\n",
    "\n",
    "This notebook demonstrates forward simulation and reconstruction for Quantitative Phase Imaging (QPI) from defocus.\n",
    "The simulation and reconstruction are based on partially coherent optical diffraction tomography (ODT):\n",
    "\n",
    "J. M. Soto, J. A. Rodrigo, and T. Alieva, \"Label-free quantitative 3D tomographic imaging\n",
    "for partially coherent light microscopy,\" Opt. Express 25, 15699-15712 (2017)"
   ]
  },
  {
   "cell_type": "markdown",
   "id": "f0ce6c0d",
   "metadata": {
    "cell_marker": "\"\"\""
   },
   "source": [
    "## Setup and Imports\n",
    "First, let's install the latest version of waveorder from the main branch"
   ]
  },
  {
   "cell_type": "code",
   "execution_count": null,
   "id": "68bff0a9",
   "metadata": {},
   "outputs": [],
   "source": [
    "import sys\n",
    "import subprocess\n",
    "\n",
    "# Install latest waveorder from main branch\n",
    "subprocess.check_call(\n",
    "    [\n",
    "        sys.executable,\n",
    "        \"-m\",\n",
    "        \"pip\",\n",
    "        \"install\",\n",
    "        \"git+https://github.com/mehta-lab/waveorder.git@main\",\n",
    "    ]\n",
    ")"
   ]
  },
  {
   "cell_type": "code",
   "execution_count": null,
   "id": "216ce117",
   "metadata": {},
   "outputs": [],
   "source": [
    "import numpy as np\n",
    "from pathlib import Path\n",
    "from platformdirs import user_data_dir\n",
    "import matplotlib.pyplot as plt\n",
    "\n",
    "from waveorder.models import phase_thick_3d\n",
    "from waveorder.visuals import jupyter_visuals"
   ]
  },
  {
   "cell_type": "markdown",
   "id": "aebdbd6e",
   "metadata": {
    "cell_marker": "\"\"\""
   },
   "source": [
    "## Forward Simulation Parameters"
   ]
  },
  {
   "cell_type": "code",
   "execution_count": null,
   "id": "ebb327b4",
   "metadata": {},
   "outputs": [],
   "source": [
    "# Parameters (all lengths in micrometers)\n",
    "simulation_arguments = {\n",
    "    \"zyx_shape\": (100, 256, 256),  # 3D shape of the volume\n",
    "    \"yx_pixel_size\": 6.5 / 63,  # Lateral pixel size\n",
    "    \"z_pixel_size\": 0.25,  # Axial pixel size\n",
    "    \"index_of_refraction_media\": 1.3,  # Refractive index of medium\n",
    "}\n",
    "\n",
    "phantom_arguments = {\n",
    "    \"index_of_refraction_sample\": 1.50,  # Refractive index of sample\n",
    "    \"sphere_radius\": 5,  # Radius of test sphere in microns\n",
    "}\n",
    "\n",
    "transfer_function_arguments = {\n",
    "    \"z_padding\": 0,  # Padding in z direction\n",
    "    \"wavelength_illumination\": 0.532,  # Wavelength in microns\n",
    "    \"numerical_aperture_illumination\": 0.9,  # Illumination NA\n",
    "    \"numerical_aperture_detection\": 1.2,  # Detection NA\n",
    "}"
   ]
  },
  {
   "cell_type": "markdown",
   "id": "e80f50a2",
   "metadata": {
    "cell_marker": "\"\"\""
   },
   "source": [
    "## Generate Test Phantom"
   ]
  },
  {
   "cell_type": "code",
   "execution_count": null,
   "id": "31ce02f3",
   "metadata": {},
   "outputs": [],
   "source": [
    "# Create a phantom\n",
    "zyx_phase = phase_thick_3d.generate_test_phantom(\n",
    "    **simulation_arguments, **phantom_arguments\n",
    ")\n",
    "\n",
    "# Show 5 z-slices of the phantom\n",
    "z_slices = np.linspace(0, zyx_phase.shape[0] - 1, 5).astype(int)\n",
    "fig, axes = plt.subplots(1, 5, figsize=(15, 3))\n",
    "for i, z in enumerate(z_slices):\n",
    "    axes[i].imshow(zyx_phase[z], cmap=\"gray\", origin=\"lower\")\n",
    "    axes[i].set_title(f\"z = {z}\")\n",
    "    axes[i].axis(\"off\")\n",
    "plt.tight_layout()\n",
    "plt.show()"
   ]
  },
  {
   "cell_type": "markdown",
   "id": "40b8c5a7",
   "metadata": {
    "cell_marker": "\"\"\""
   },
   "source": [
    "## Calculate Transfer Functions"
   ]
  },
  {
   "cell_type": "code",
   "execution_count": null,
   "id": "39c3b649",
   "metadata": {},
   "outputs": [],
   "source": [
    "# Calculate real and imaginary parts of the transfer function\n",
    "(\n",
    "    real_potential_transfer_function,\n",
    "    imag_potential_transfer_function,\n",
    ") = phase_thick_3d.calculate_transfer_function(\n",
    "    **simulation_arguments, **transfer_function_arguments\n",
    ")\n",
    "# Convert complex valued transfer functions to real valued\n",
    "real_potential_transfer_function = np.fft.ifftshift(\n",
    "    real_potential_transfer_function.real\n",
    ")\n",
    "imag_potential_transfer_function = np.fft.ifftshift(\n",
    "    imag_potential_transfer_function.real\n",
    ")\n",
    "\n",
    "# Visualize transfer functions\n",
    "fig, axes = plt.subplots(2, 5, figsize=(15, 6))\n",
    "for i, z in enumerate(z_slices):\n",
    "    axes[0, i].imshow(\n",
    "        real_potential_transfer_function[z], cmap=\"gray\", origin=\"lower\"\n",
    "    )\n",
    "    axes[0, i].set_title(f\"Real TF, z = {z}\")\n",
    "    axes[0, i].axis(\"off\")\n",
    "    axes[1, i].imshow(\n",
    "        imag_potential_transfer_function[z], cmap=\"gray\", origin=\"lower\"\n",
    "    )\n",
    "    axes[1, i].set_title(f\"Imag TF, z = {z}\")\n",
    "    axes[1, i].axis(\"off\")\n",
    "plt.tight_layout()\n",
    "plt.show()"
   ]
  },
  {
   "cell_type": "markdown",
   "id": "d1b5d13b",
   "metadata": {
    "cell_marker": "\"\"\""
   },
   "source": [
    "## Forward Simulation"
   ]
  },
  {
   "cell_type": "code",
   "execution_count": null,
   "id": "ec16b55f",
   "metadata": {},
   "outputs": [],
   "source": [
    "# Simulate defocus data\n",
    "zyx_data = phase_thick_3d.apply_transfer_function(\n",
    "    zyx_phase,\n",
    "    real_potential_transfer_function,\n",
    "    transfer_function_arguments[\"z_padding\"],\n",
    "    brightness=1e3,\n",
    ")\n",
    "\n",
    "# Visualize simulated data\n",
    "fig, axes = plt.subplots(1, 5, figsize=(15, 3))\n",
    "for i, z in enumerate(z_slices):\n",
    "    axes[i].imshow(zyx_data[z], cmap=\"gray\", origin=\"lower\")\n",
    "    axes[i].set_title(f\"Data, z = {z}\")\n",
    "    axes[i].axis(\"off\")\n",
    "plt.tight_layout()\n",
    "plt.show()"
   ]
  },
  {
   "cell_type": "markdown",
   "id": "756895f3",
   "metadata": {
    "cell_marker": "\"\"\""
   },
   "source": [
    "## Phase Reconstruction"
   ]
  },
  {
   "cell_type": "code",
   "execution_count": null,
   "id": "ac7e77c2",
   "metadata": {},
   "outputs": [],
   "source": [
    "# Reconstruct phase\n",
    "zyx_recon = phase_thick_3d.apply_inverse_transfer_function(\n",
    "    zyx_data,\n",
    "    real_potential_transfer_function,\n",
    "    imag_potential_transfer_function,\n",
    "    transfer_function_arguments[\"z_padding\"],\n",
    ")\n",
    "\n",
    "# Visualize reconstruction compared to ground truth\n",
    "fig, axes = plt.subplots(2, 5, figsize=(15, 6))\n",
    "for i, z in enumerate(z_slices):\n",
    "    axes[0, i].imshow(zyx_phase[z], cmap=\"gray\", origin=\"lower\")\n",
    "    axes[0, i].set_title(f\"Ground Truth, z = {z}\")\n",
    "    axes[0, i].axis(\"off\")\n",
    "    axes[1, i].imshow(zyx_recon[z], cmap=\"gray\", origin=\"lower\")\n",
    "    axes[1, i].set_title(f\"Reconstruction, z = {z}\")\n",
    "    axes[1, i].axis(\"off\")\n",
    "plt.tight_layout()\n",
    "plt.show()"
   ]
  }
 ],
 "metadata": {
  "jupytext": {
   "encoding": "# -*- coding: utf-8 -*-",
   "formats": "py:percent,ipynb"
  },
  "kernelspec": {
   "display_name": "Python 3",
   "language": "python",
   "name": "python3"
  }
 },
 "nbformat": 4,
 "nbformat_minor": 5
}
