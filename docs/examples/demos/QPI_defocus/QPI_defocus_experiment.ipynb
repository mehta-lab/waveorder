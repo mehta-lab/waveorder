{
 "cells": [
  {
   "cell_type": "markdown",
   "id": "562c4414",
   "metadata": {
    "cell_marker": "\"\"\""
   },
   "source": [
    "# Quantitative Phase Imaging from Defocus Demo\n",
    "\n",
    "This notebook demonstrates reconstruction for Quantitative Phase Imaging (QPI) from defocus.\n",
    "The reconstruction is based on partially coherent optical diffraction tomography (ODT):\n",
    "\n",
    "J. M. Soto, J. A. Rodrigo, and T. Alieva, \"Label-free quantitative 3D tomographic imaging\n",
    "for partially coherent light microscopy,\" Opt. Express 25, 15699-15712 (2017)"
   ]
  },
  {
   "cell_type": "markdown",
   "id": "f85dc1ab",
   "metadata": {
    "cell_marker": "\"\"\""
   },
   "source": [
    "## Setup and Imports\n",
    "First, let's install the latest version of waveorder from the main branch"
   ]
  },
  {
   "cell_type": "code",
   "execution_count": null,
   "id": "cc35c1f1",
   "metadata": {},
   "outputs": [],
   "source": [
    "import sys\n",
    "import subprocess\n",
    "\n",
    "# Install latest waveorder from main branch\n",
    "subprocess.check_call(\n",
    "    [\n",
    "        sys.executable,\n",
    "        \"-m\",\n",
    "        \"pip\",\n",
    "        \"install\",\n",
    "        \"git+https://github.com/mehta-lab/waveorder.git@main\",\n",
    "    ]\n",
    ")"
   ]
  },
  {
   "cell_type": "code",
   "execution_count": null,
   "id": "6cb2897f",
   "metadata": {},
   "outputs": [],
   "source": [
    "import matplotlib.pyplot as plt\n",
    "import torch\n",
    "\n",
    "from waveorder.models import phase_thick_3d\n",
    "import requests\n",
    "import zipfile\n",
    "import io\n",
    "from iohub import open_ome_zarr"
   ]
  },
  {
   "cell_type": "code",
   "execution_count": null,
   "id": "7d715954",
   "metadata": {
    "title": "Load the data"
   },
   "outputs": [],
   "source": [
    "# Download the file from Zenodo\n",
    "url = \"https://zenodo.org/record/8386856/files/recOrder_session.zip\"\n",
    "response = requests.get(url)\n",
    "response.raise_for_status()\n",
    "\n",
    "# Unzip the downloaded file\n",
    "with zipfile.ZipFile(io.BytesIO(response.content)) as z:\n",
    "    z.extractall(\"./recOrder_session\")"
   ]
  },
  {
   "cell_type": "code",
   "execution_count": null,
   "id": "6b261eb2",
   "metadata": {
    "title": "Load data into an array"
   },
   "outputs": [],
   "source": [
    "zarr_path = \"./recOrder_session/recOrder_session/phase_snap_0/raw_data.zarr\"\n",
    "with open_ome_zarr(zarr_path) as input_plate:\n",
    "    zyx_data = input_plate[\"0/0/0/0\"][0, 0]"
   ]
  },
  {
   "cell_type": "code",
   "execution_count": null,
   "id": "4fb99579",
   "metadata": {
    "lines_to_next_cell": 0,
    "title": "specify reconstruction parameters (all lengths in micrometers)"
   },
   "outputs": [],
   "source": [
    "transfer_function_arguments = {\n",
    "    \"yx_pixel_size\": 6.5 / 20,  # Lateral pixel size\n",
    "    \"z_pixel_size\": 2.0,  # Axial pixel size\n",
    "    \"index_of_refraction_media\": 1.0,  # Refractive index of medium\n",
    "    \"z_padding\": 0,  # Padding in z direction\n",
    "    \"wavelength_illumination\": 0.532,  # Wavelength in microns\n",
    "    \"numerical_aperture_illumination\": 0.4,  # Illumination NA\n",
    "    \"numerical_aperture_detection\": 0.55,  # Detection NA\n",
    "}"
   ]
  },
  {
   "cell_type": "code",
   "execution_count": null,
   "id": "7b07436a",
   "metadata": {
    "title": "Calculate the transfer function"
   },
   "outputs": [],
   "source": [
    "(\n",
    "    real_potential_transfer_function,\n",
    "    imag_potential_transfer_function,\n",
    ") = phase_thick_3d.calculate_transfer_function(\n",
    "    zyx_shape=zyx_data.shape, **transfer_function_arguments\n",
    ")"
   ]
  },
  {
   "cell_type": "code",
   "execution_count": null,
   "id": "ca70ff92",
   "metadata": {
    "lines_to_next_cell": 0,
    "title": "Reconstruct"
   },
   "outputs": [],
   "source": [
    "zyx_recon = phase_thick_3d.apply_inverse_transfer_function(\n",
    "    torch.Tensor(zyx_data),\n",
    "    real_potential_transfer_function,\n",
    "    imag_potential_transfer_function,\n",
    "    transfer_function_arguments[\"z_padding\"],\n",
    ")"
   ]
  },
  {
   "cell_type": "code",
   "execution_count": null,
   "id": "6d2dcd15",
   "metadata": {
    "title": "Compared data and reconstruction"
   },
   "outputs": [],
   "source": [
    "z_slices = [1, 3, 5, 7, 9]\n",
    "\n",
    "fig, axes = plt.subplots(2, 5, figsize=(15, 6))\n",
    "for i, z in enumerate(z_slices):\n",
    "    axes[0, i].imshow(zyx_data[z], cmap=\"gray\", origin=\"lower\")\n",
    "    axes[0, i].set_title(f\"Ground Truth, z = {z}\")\n",
    "    axes[0, i].axis(\"off\")\n",
    "    axes[1, i].imshow(zyx_recon[z], cmap=\"gray\", origin=\"lower\")\n",
    "    axes[1, i].set_title(f\"Reconstruction, z = {z}\")\n",
    "    axes[1, i].axis(\"off\")\n",
    "plt.tight_layout()\n",
    "plt.show()"
   ]
  }
 ],
 "metadata": {
  "jupytext": {
   "encoding": "# -*- coding: utf-8 -*-",
   "formats": "py:percent,ipynb"
  },
  "kernelspec": {
   "display_name": "Python 3",
   "language": "python",
   "name": "python3"
  }
 },
 "nbformat": 4,
 "nbformat_minor": 5
}
