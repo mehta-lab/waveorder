{
 "cells": [
  {
   "cell_type": "markdown",
   "id": "1b6996b0",
   "metadata": {
    "cell_marker": "\"\"\""
   },
   "source": [
    "# 2D QLIPP Simulation and Reconstruction Demo\n",
    "\n",
    "This notebook demonstrates forward simulation and reconstruction for Quantitative Label-free Imaging with Phase and Polarization (QLIPP).\n",
    "The simulation and reconstruction are based on the QLIPP paper ([here](https://elifesciences.org/articles/55502)):\n",
    "\n",
    "S.-M. Guo, L.-H. Yeh, J. Folkesson, I. E. Ivanov, A. P. Krishnan, M. G. Keefe, E. Hashemi,\n",
    "D. Shin, B. B. Chhun, N. H. Cho, M. D. Leonetti, M. H. Han, T. J. Nowakowski, S. B. Mehta,\n",
    "\"Revealing architectural order with quantitative label-free imaging and deep learning,\"\n",
    "eLife 9:e55502 (2020)."
   ]
  },
  {
   "cell_type": "markdown",
   "id": "f0aba1ee",
   "metadata": {
    "cell_marker": "\"\"\""
   },
   "source": [
    "## Setup and Imports\n",
    "First, let's install the latest version of waveorder from the main branch"
   ]
  },
  {
   "cell_type": "code",
   "execution_count": null,
   "id": "6218d6b2",
   "metadata": {},
   "outputs": [],
   "source": [
    "import sys\n",
    "import subprocess\n",
    "\n",
    "# Install latest waveorder from main branch\n",
    "subprocess.check_call(\n",
    "    [\n",
    "        sys.executable,\n",
    "        \"-m\",\n",
    "        \"pip\",\n",
    "        \"install\",\n",
    "        \"git+https://github.com/mehta-lab/waveorder.git@main\",\n",
    "    ]\n",
    ")"
   ]
  },
  {
   "cell_type": "code",
   "execution_count": null,
   "id": "f5f5e091",
   "metadata": {},
   "outputs": [],
   "source": [
    "from pathlib import Path\n",
    "\n",
    "import matplotlib.pyplot as plt\n",
    "import numpy as np\n",
    "from numpy.fft import fftshift\n",
    "from platformdirs import user_data_dir\n",
    "\n",
    "from waveorder import optics, util, waveorder_simulator\n",
    "from waveorder.visuals import jupyter_visuals"
   ]
  },
  {
   "cell_type": "markdown",
   "id": "32850c70",
   "metadata": {
    "cell_marker": "\"\"\""
   },
   "source": [
    "## Forward Simulation\n",
    "Here we simulate QLIPP measurements of a Siemens star pattern with uniform phase, uniform retardance, and radial orientation."
   ]
  },
  {
   "cell_type": "code",
   "execution_count": null,
   "id": "a63e5541",
   "metadata": {},
   "outputs": [],
   "source": [
    "# Key parameters\n",
    "N = 256  # number of pixel in y dimension\n",
    "M = 256  # number of pixel in x dimension\n",
    "mag = 40  # magnification\n",
    "ps = 6.5 / mag  # effective pixel size\n",
    "lambda_illu = 0.532  # wavelength\n",
    "n_media = 1  # refractive index in the media\n",
    "NA_obj = 0.55  # objective NA\n",
    "NA_illu = 0.4  # illumination NA (condenser)\n",
    "NA_illu_in = 0.4  # illumination NA (phase contrast inner ring)\n",
    "z_defocus = (np.r_[:5] - 2) * 1.757  # a set of defocus plane\n",
    "chi = 0.03 * 2 * np.pi  # swing of Polscope analyzer"
   ]
  },
  {
   "cell_type": "markdown",
   "id": "875bd8a7",
   "metadata": {
    "cell_marker": "\"\"\""
   },
   "source": [
    "### Generate Sample: Siemens Star Pattern"
   ]
  },
  {
   "cell_type": "code",
   "execution_count": null,
   "id": "8c00af74",
   "metadata": {},
   "outputs": [],
   "source": [
    "# Sample : star with uniform phase, uniform retardance, and radial orientation\n",
    "star, theta, _ = util.generate_star_target((N, M))\n",
    "star = star.numpy()\n",
    "theta = theta.numpy()\n",
    "jupyter_visuals.plot_multicolumn(np.array([star, theta]), num_col=2, size=5)"
   ]
  },
  {
   "cell_type": "code",
   "execution_count": null,
   "id": "b027a316",
   "metadata": {},
   "outputs": [],
   "source": [
    "# Assign uniform phase, uniform retardance, and radial slow axes to the star pattern\n",
    "phase_value = 1  # average phase in radians (optical path length)\n",
    "phi_s = star * (phase_value + 0.15)  # slower OPL across target\n",
    "phi_f = star * (phase_value - 0.15)  # faster OPL across target\n",
    "mu_s = np.zeros((N, M))  # absorption\n",
    "mu_f = mu_s.copy()\n",
    "t_eigen = np.zeros((2, N, M), complex)  # complex specimen transmission\n",
    "t_eigen[0] = np.exp(-mu_s + 1j * phi_s)\n",
    "t_eigen[1] = np.exp(-mu_f + 1j * phi_f)\n",
    "sa = theta % np.pi  # slow axes.\n",
    "\n",
    "jupyter_visuals.plot_multicolumn(\n",
    "    np.array([phi_s, phi_f, mu_s, sa]),\n",
    "    num_col=2,\n",
    "    size=5,\n",
    "    set_title=True,\n",
    "    titles=[\"Phase (slow)\", \"Phase (fast)\", \"absorption\", \"slow axis\"],\n",
    "    origin=\"lower\",\n",
    ")"
   ]
  },
  {
   "cell_type": "markdown",
   "id": "b872e446",
   "metadata": {
    "cell_marker": "\"\"\""
   },
   "source": [
    "### Forward Model Setup"
   ]
  },
  {
   "cell_type": "code",
   "execution_count": null,
   "id": "dcd634a8",
   "metadata": {},
   "outputs": [],
   "source": [
    "# Source pupil\n",
    "# Subsample source pattern for speed\n",
    "xx, yy, fxx, fyy = util.gen_coordinate((N, M), ps)\n",
    "radial_frequencies = np.sqrt(fxx**2 + fyy**2)\n",
    "Source_cont = optics.generate_pupil(\n",
    "    radial_frequencies, NA_illu, lambda_illu\n",
    ").numpy()\n",
    "Source_discrete = optics.Source_subsample(\n",
    "    Source_cont, lambda_illu * fxx, lambda_illu * fyy, subsampled_NA=0.1\n",
    ")\n",
    "plt.figure(figsize=(10, 10))\n",
    "plt.imshow(fftshift(Source_discrete), cmap=\"gray\")\n",
    "plt.show()"
   ]
  },
  {
   "cell_type": "code",
   "execution_count": null,
   "id": "4d7e68da",
   "metadata": {},
   "outputs": [],
   "source": [
    "# Initialize microscope simulator\n",
    "simulator = waveorder_simulator.waveorder_microscopy_simulator(\n",
    "    (N, M),\n",
    "    lambda_illu,\n",
    "    ps,\n",
    "    NA_obj,\n",
    "    NA_illu,\n",
    "    z_defocus,\n",
    "    chi,\n",
    "    n_media=n_media,\n",
    "    illu_mode=\"Arbitrary\",\n",
    "    Source=Source_discrete,\n",
    ")\n",
    "\n",
    "# Compute image volumes and Stokes volumes\n",
    "I_meas, Stokes_out = simulator.simulate_waveorder_measurements(\n",
    "    t_eigen, sa, multiprocess=False\n",
    ")\n",
    "\n",
    "# Add noise to the measurement\n",
    "photon_count = 14000\n",
    "ext_ratio = 10000\n",
    "const_bg = photon_count / (0.5 * (1 - np.cos(chi))) / ext_ratio\n",
    "I_meas_noise = (\n",
    "    np.random.poisson(I_meas / np.max(I_meas) * photon_count + const_bg)\n",
    ").astype(\"float64\")\n",
    "\n",
    "# Save simulation\n",
    "temp_dirpath = Path(user_data_dir(\"QLIPP_simulation\"))\n",
    "temp_dirpath.mkdir(parents=True, exist_ok=True)\n",
    "output_file = temp_dirpath / \"2D_QLIPP_simulation.npz\"\n",
    "np.savez(\n",
    "    output_file,\n",
    "    I_meas=I_meas_noise,\n",
    "    Stokes_out=Stokes_out,\n",
    "    lambda_illu=lambda_illu,\n",
    "    n_media=n_media,\n",
    "    NA_obj=NA_obj,\n",
    "    NA_illu=NA_illu,\n",
    "    ps=ps,\n",
    "    Source_cont=Source_cont,\n",
    "    z_defocus=z_defocus,\n",
    "    chi=chi,\n",
    ")"
   ]
  },
  {
   "cell_type": "markdown",
   "id": "e11f2336",
   "metadata": {
    "cell_marker": "\"\"\""
   },
   "source": [
    "## Reconstruction\n",
    "Now we'll reconstruct the simulated data to recover the sample properties."
   ]
  },
  {
   "cell_type": "code",
   "execution_count": null,
   "id": "ac9963b7",
   "metadata": {},
   "outputs": [],
   "source": [
    "from waveorder import waveorder_reconstructor\n",
    "\n",
    "# Load simulated data\n",
    "array_loaded = np.load(output_file)\n",
    "list_of_array_names = sorted(array_loaded)\n",
    "\n",
    "for array_name in list_of_array_names:\n",
    "    globals()[array_name] = array_loaded[array_name]\n",
    "\n",
    "print(\"Loaded arrays:\", list_of_array_names)"
   ]
  },
  {
   "cell_type": "markdown",
   "id": "2f26d28e",
   "metadata": {
    "cell_marker": "\"\"\""
   },
   "source": [
    "### Initial Reconstruction of Stokes Parameters and Anisotropy"
   ]
  },
  {
   "cell_type": "code",
   "execution_count": null,
   "id": "4700565f",
   "metadata": {},
   "outputs": [],
   "source": [
    "_, N, M, L = I_meas.shape\n",
    "cali = False\n",
    "bg_option = \"global\"\n",
    "\n",
    "setup = waveorder_reconstructor.waveorder_microscopy(\n",
    "    (N, M),\n",
    "    lambda_illu,\n",
    "    ps,\n",
    "    NA_obj,\n",
    "    NA_illu,\n",
    "    z_defocus,\n",
    "    chi,\n",
    "    n_media=n_media,\n",
    "    phase_deconv=\"2D\",\n",
    "    bire_in_plane_deconv=\"2D\",\n",
    "    illu_mode=\"BF\",\n",
    ")\n",
    "\n",
    "S_image_recon = setup.Stokes_recon(I_meas)\n",
    "S_image_tm = setup.Stokes_transform(S_image_recon)\n",
    "Recon_para = setup.Polarization_recon(\n",
    "    S_image_tm\n",
    ")  # Without accounting for diffraction\n",
    "\n",
    "jupyter_visuals.plot_multicolumn(\n",
    "    np.array(\n",
    "        [\n",
    "            Recon_para[0, :, :, L // 2],\n",
    "            Recon_para[1, :, :, L // 2],\n",
    "            Recon_para[2, :, :, L // 2],\n",
    "            Recon_para[3, :, :, L // 2],\n",
    "        ]\n",
    "    ),\n",
    "    num_col=2,\n",
    "    size=5,\n",
    "    set_title=True,\n",
    "    titles=[\"Retardance\", \"2D orientation\", \"Brightfield\", \"Depolarization\"],\n",
    "    origin=\"lower\",\n",
    ")\n",
    "\n",
    "jupyter_visuals.plot_hsv(\n",
    "    [Recon_para[1, :, :, L // 2], Recon_para[0, :, :, L // 2]],\n",
    "    max_val=1,\n",
    "    origin=\"lower\",\n",
    "    size=10,\n",
    ")"
   ]
  },
  {
   "cell_type": "markdown",
   "id": "4039e76a",
   "metadata": {
    "cell_marker": "\"\"\""
   },
   "source": [
    "### 2D Retardance and Orientation Reconstruction with S₁ and S₂"
   ]
  },
  {
   "cell_type": "code",
   "execution_count": null,
   "id": "1cc78a50",
   "metadata": {},
   "outputs": [],
   "source": [
    "# Diffraction aware reconstruction assuming slowly varying transmission\n",
    "S1_stack = S_image_recon[1].copy() / S_image_recon[0].mean()\n",
    "S2_stack = S_image_recon[2].copy() / S_image_recon[0].mean()\n",
    "\n",
    "# Tikhonov regularization\n",
    "retardance, azimuth = setup.Birefringence_recon_2D(\n",
    "    S1_stack, S2_stack, method=\"Tikhonov\", reg_br=1e-2\n",
    ")\n",
    "\n",
    "jupyter_visuals.plot_multicolumn(\n",
    "    np.array([retardance, azimuth]),\n",
    "    num_col=2,\n",
    "    size=10,\n",
    "    set_title=True,\n",
    "    titles=[\"Reconstructed retardance\", \"Reconstructed orientation\"],\n",
    "    origin=\"lower\",\n",
    ")\n",
    "jupyter_visuals.plot_hsv([azimuth, retardance], size=10, origin=\"lower\")"
   ]
  },
  {
   "cell_type": "code",
   "execution_count": null,
   "id": "7ca537ca",
   "metadata": {},
   "outputs": [],
   "source": [
    "# TV-regularized birefringence deconvolution\n",
    "retardance_TV, azimuth_TV = setup.Birefringence_recon_2D(\n",
    "    S1_stack,\n",
    "    S2_stack,\n",
    "    method=\"TV\",\n",
    "    reg_br=1e-1,\n",
    "    rho=1e-5,\n",
    "    lambda_br=1e-3,\n",
    "    itr=20,\n",
    "    verbose=True,\n",
    ")\n",
    "\n",
    "jupyter_visuals.plot_multicolumn(\n",
    "    np.array([retardance_TV, azimuth_TV]),\n",
    "    num_col=2,\n",
    "    size=10,\n",
    "    set_title=True,\n",
    "    titles=[\"Reconstructed retardance (TV)\", \"Reconstructed orientation (TV)\"],\n",
    "    origin=\"lower\",\n",
    ")\n",
    "jupyter_visuals.plot_hsv([azimuth_TV, retardance_TV], size=10, origin=\"lower\")"
   ]
  },
  {
   "cell_type": "code",
   "execution_count": null,
   "id": "5d942ade",
   "metadata": {},
   "outputs": [],
   "source": []
  }
 ],
 "metadata": {
  "jupytext": {
   "encoding": "# -*- coding: utf-8 -*-",
   "formats": "py:percent,ipynb"
  },
  "kernelspec": {
   "display_name": "Python 3",
   "language": "python",
   "name": "python3"
  }
 },
 "nbformat": 4,
 "nbformat_minor": 5
}
